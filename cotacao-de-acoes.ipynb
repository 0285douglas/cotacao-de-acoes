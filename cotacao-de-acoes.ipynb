{
 "cells": [
  {
   "cell_type": "code",
   "execution_count": 23,
   "metadata": {},
   "outputs": [],
   "source": [
    "import requests # framework de requisição de API\n",
    "import pandas as pd # framework para criação e manipulação de Dataframes\n",
    "from io import StringIO # conversor de arquivos text para csv\n",
    "import time # framework para criar intervalos"
   ]
  },
  {
   "cell_type": "code",
   "execution_count": 27,
   "metadata": {},
   "outputs": [
    {
     "data": {
      "text/html": [
       "<div>\n",
       "<style scoped>\n",
       "    .dataframe tbody tr th:only-of-type {\n",
       "        vertical-align: middle;\n",
       "    }\n",
       "\n",
       "    .dataframe tbody tr th {\n",
       "        vertical-align: top;\n",
       "    }\n",
       "\n",
       "    .dataframe thead th {\n",
       "        text-align: right;\n",
       "    }\n",
       "</style>\n",
       "<table border=\"1\" class=\"dataframe\">\n",
       "  <thead>\n",
       "    <tr style=\"text-align: right;\">\n",
       "      <th></th>\n",
       "      <th>{</th>\n",
       "    </tr>\n",
       "  </thead>\n",
       "  <tbody>\n",
       "    <tr>\n",
       "      <th>0</th>\n",
       "      <td>\"Information\": \"Thank you for using Alpha ...</td>\n",
       "    </tr>\n",
       "    <tr>\n",
       "      <th>1</th>\n",
       "      <td>}</td>\n",
       "    </tr>\n",
       "  </tbody>\n",
       "</table>\n",
       "</div>"
      ],
      "text/plain": [
       "                                                   {\n",
       "0      \"Information\": \"Thank you for using Alpha ...\n",
       "1                                                  }"
      ]
     },
     "metadata": {},
     "output_type": "display_data"
    }
   ],
   "source": [
    "api = 'FGO0YEX3QWG8VK3K' # chave api/api key\n",
    "acao = 'ABEV3' # Ação que os dados serão coletados\n",
    "tabela = pd.DataFrame()\n",
    "\n",
    "# API\n",
    "# url = f'https://www.alphavantage.co/query?function=TIME_SERIES_WEEKLY_ADJUSTED&symbol={acao}.SAO&apikey={api}&datatype=csv&datatype=csv'\n",
    "url_2 = f'https://www.alphavantage.co/query?function=GLOBAL_QUOTE&symbol={acao}&apikey={api}&datatype=csv&datatype=csv'\n",
    "\n",
    "# Requisição \n",
    "r = requests.get(url_2) \n",
    "\n",
    "# Conversão de arquivo text para csv\n",
    "tabela = pd.read_csv(StringIO(r.text))    \n",
    "\n",
    "display(tabela)"
   ]
  }
 ],
 "metadata": {
  "kernelspec": {
   "display_name": "Python 3",
   "language": "python",
   "name": "python3"
  },
  "language_info": {
   "codemirror_mode": {
    "name": "ipython",
    "version": 3
   },
   "file_extension": ".py",
   "mimetype": "text/x-python",
   "name": "python",
   "nbconvert_exporter": "python",
   "pygments_lexer": "ipython3",
   "version": "3.11.2"
  }
 },
 "nbformat": 4,
 "nbformat_minor": 2
}
